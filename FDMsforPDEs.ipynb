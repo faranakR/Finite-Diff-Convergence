{
 "cells": [
  {
   "cell_type": "code",
   "execution_count": 31,
   "metadata": {},
   "outputs": [],
   "source": [
    "import math"
   ]
  },
  {
   "cell_type": "code",
   "execution_count": 32,
   "metadata": {},
   "outputs": [],
   "source": [
    "def init_nonsmooth(dx):\n",
    "    M = int(math.pi / dx)\n",
    "    U0 = []\n",
    "    for j in range(0, M):\n",
    "        if j <= M / 2:\n",
    "            U0.append(j * math.pi / M)\n",
    "        else:\n",
    "            U0.append(math.pi - j * math.pi / M)\n",
    "    U0.append(0)\n",
    "    return U0\n",
    "\n",
    "\n",
    "def init_smooth(dx):\n",
    "    M = int(math.pi / dx)\n",
    "    U0 = []\n",
    "    for j in range(0, M):\n",
    "        x = j * math.pi / M\n",
    "        U0.append(1 - math.exp(- math.sin(x) ** 2))\n",
    "    U0.append(0)\n",
    "    return U0"
   ]
  },
  {
   "cell_type": "code",
   "execution_count": 33,
   "metadata": {},
   "outputs": [],
   "source": [
    "def fwd_solver(dt, dx, end_time, U0):\n",
    "\n",
    "    U_list = [U0]\n",
    "    T = int(end_time / dt)\n",
    "    for n in range(0, T):\n",
    "        new_U = update_temperature(U_list[-1], dt, dx)\n",
    "        U_list.append(new_U)\n",
    "\n",
    "    return U_list[-1]\n",
    "\n",
    "\n",
    "def update_temperature(current_temp, dt, dx):\n",
    "    new_temp = []\n",
    "    M = len(current_temp)\n",
    "    for j in range(0, M):\n",
    "\n",
    "        if j == 0 or j == M - 1:\n",
    "            new_temp_j = 0\n",
    "        else:\n",
    "            new_temp_j = current_temp[j] + ((sigma * dt) / (dx ** 2)) * (current_temp[j - 1] -\n",
    "                                                    2 * current_temp[j] + current_temp[j + 1])\n",
    "\n",
    "        new_temp.append(new_temp_j)\n",
    "\n",
    "    return new_temp"
   ]
  },
  {
   "cell_type": "code",
   "execution_count": 34,
   "metadata": {},
   "outputs": [
    {
     "name": "stdout",
     "output_type": "stream",
     "text": [
      "beta: 0.9989733635769921\n"
     ]
    }
   ],
   "source": [
    "alpha = 1 / 2\n",
    "sigma = 1\n",
    "\n",
    "fixed_time = 10  # in seconds\n",
    "\n",
    "wh_list = []\n",
    "\n",
    "dx = math.pi / 100\n",
    "\n",
    "U0 = init_smooth(dx)\n",
    "for h in [1, 2, 4]:\n",
    "    dt = (dx ** 2 * alpha / h) / sigma\n",
    "\n",
    "    curr_temp = fwd_solver(dt, dx, fixed_time, U0)\n",
    "    rode_middle_temp_h = curr_temp[int(len(curr_temp) / 2)]\n",
    "    wh_list.append(rode_middle_temp_h)\n",
    "\n",
    "q = (wh_list[0] - wh_list[1]) / (wh_list[1] - wh_list[2])\n",
    "\n",
    "print(f\"beta: {math.log2(abs(q))}\")"
   ]
  },
  {
   "cell_type": "code",
   "execution_count": 35,
   "metadata": {},
   "outputs": [],
   "source": [
    "### Q2"
   ]
  },
  {
   "cell_type": "code",
   "execution_count": 36,
   "metadata": {},
   "outputs": [],
   "source": [
    "import numpy as np\n",
    "\n",
    "def TDMSolver(a, b, c, u):\n",
    "    N = len(a)\n",
    "\n",
    "    ac = np.array(a)\n",
    "    bc = np.array(b)\n",
    "    cc = np.array(c)\n",
    "    uc = np.array(u)\n",
    "\n",
    "    for i in range(1, N):\n",
    "        w = ac[i] / bc[i - 1]\n",
    "        bc[i] = bc[i] - w * cc[i - 1]\n",
    "        uc[i] = uc[i] - w * uc[i - 1]\n",
    "\n",
    "    x = np.zeros((N,))\n",
    "    x[N - 1] = uc[N - 1] / bc[N - 1]\n",
    "\n",
    "    for i in range(N - 2, -1, -1):\n",
    "        x[i] = (uc[i] - cc[i] * x[i + 1]) / bc[i]\n",
    "\n",
    "    return x"
   ]
  },
  {
   "cell_type": "code",
   "execution_count": 37,
   "metadata": {},
   "outputs": [],
   "source": [
    "def solver(dt, dx, end_time, U0):\n",
    "    T = int(end_time / dt)\n",
    "\n",
    "    alpha = (sigma * dt) / (dx ** 2)\n",
    "\n",
    "    # Tridiagonal solver\n",
    "\n",
    "    a = np.zeros((len(U0), ))\n",
    "    b = np.zeros((len(U0), ))\n",
    "    c = np.zeros((len(U0), ))\n",
    "\n",
    "    for i in range(0, len(U0)):\n",
    "        if i == 0 or i == len(U0) - 1:\n",
    "            b[i] = 1\n",
    "            a[i] = 0\n",
    "            c[i] = 0\n",
    "\n",
    "        else:\n",
    "\n",
    "            b[i] = 1 + alpha\n",
    "            c[i] = -alpha/2\n",
    "            a[i] = -alpha/2\n",
    "\n",
    "    U = U0\n",
    "    U_checkpoints = [U0]\n",
    "    for t in range(1, T + 1):\n",
    "        R = []\n",
    "        for j in range(len(U)):\n",
    "            if j == 0:\n",
    "                Rj = 0\n",
    "            elif j == len(U) - 1:\n",
    "                Rj = 0\n",
    "            else:\n",
    "                Rj = alpha/2 * U[j-1] + (1 - alpha) * U[j] + alpha/2 * U[j+1]\n",
    "\n",
    "            R.append(Rj)\n",
    "\n",
    "        new_U = TDMSolver(a, b, c, R)\n",
    "        U_checkpoints.append(new_U)\n",
    "        U = new_U\n",
    "\n",
    "    return U_checkpoints[-1]"
   ]
  },
  {
   "cell_type": "code",
   "execution_count": 38,
   "metadata": {},
   "outputs": [
    {
     "name": "stdout",
     "output_type": "stream",
     "text": [
      "1.99999179764568\n"
     ]
    }
   ],
   "source": [
    "sigma = 1\n",
    "dx = math.pi / 500\n",
    "fixed_time = 8 # in seconds\n",
    "\n",
    "# initial function\n",
    "U0 = init_smooth(dx)\n",
    "mid_temps = []\n",
    "\n",
    "for h in [1, 2, 4]:\n",
    "    dt = dx/h\n",
    "\n",
    "    curr_temp = solver(dt, dx, fixed_time, U0)\n",
    "\n",
    "    mid_temp = curr_temp[int(len(curr_temp) / 2)]\n",
    "    mid_temps.append(mid_temp)\n",
    "\n",
    "q = (mid_temps[0] - mid_temps[1]) / (mid_temps[1] - mid_temps[2])\n",
    "print(math.log2(abs(q)))"
   ]
  },
  {
   "cell_type": "code",
   "execution_count": null,
   "metadata": {},
   "outputs": [],
   "source": []
  }
 ],
 "metadata": {
  "kernelspec": {
   "display_name": "Python 3",
   "language": "python",
   "name": "python3"
  },
  "language_info": {
   "codemirror_mode": {
    "name": "ipython",
    "version": 3
   },
   "file_extension": ".py",
   "mimetype": "text/x-python",
   "name": "python",
   "nbconvert_exporter": "python",
   "pygments_lexer": "ipython3",
   "version": "3.7.6"
  }
 },
 "nbformat": 4,
 "nbformat_minor": 4
}
